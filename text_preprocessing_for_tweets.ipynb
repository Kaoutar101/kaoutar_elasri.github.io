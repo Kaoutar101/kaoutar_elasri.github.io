{
 "cells": [
  {
   "cell_type": "code",
   "execution_count": 2,
   "metadata": {
    "colab": {
     "base_uri": "https://localhost:8080/"
    },
    "id": "rokfrZMDLyBM",
    "outputId": "af4e1de1-ad71-4c60-d7c9-d9ad607dbedc"
   },
   "outputs": [
    {
     "name": "stdout",
     "output_type": "stream",
     "text": [
      "Collecting emojiNote: you may need to restart the kernel to use updated packages.\n"
     ]
    },
    {
     "name": "stderr",
     "output_type": "stream",
     "text": [
      "\n",
      "[notice] A new release of pip is available: 24.3.1 -> 25.0.1\n",
      "[notice] To update, run: python.exe -m pip install --upgrade pip\n"
     ]
    },
    {
     "name": "stdout",
     "output_type": "stream",
     "text": [
      "\n",
      "  Downloading emoji-2.14.1-py3-none-any.whl.metadata (5.7 kB)\n",
      "Downloading emoji-2.14.1-py3-none-any.whl (590 kB)\n",
      "   ---------------------------------------- 0.0/590.6 kB ? eta -:--:--\n",
      "   ----------------------------------- ---- 524.3/590.6 kB 5.6 MB/s eta 0:00:01\n",
      "   ---------------------------------------- 590.6/590.6 kB 3.0 MB/s eta 0:00:00\n",
      "Installing collected packages: emoji\n",
      "Successfully installed emoji-2.14.1\n"
     ]
    }
   ],
   "source": [
    "pip install emoji"
   ]
  },
  {
   "cell_type": "code",
   "execution_count": 1,
   "metadata": {
    "id": "nw85j-qj0pds"
   },
   "outputs": [],
   "source": [
    "#import libraries\n",
    "import pandas as pd\n",
    "import numpy as np\n",
    "import matplotlib.pyplot as plt\n",
    "import nltk\n",
    "from nltk.corpus import stopwords\n",
    "import re\n",
    "import emoji\n",
    "import string"
   ]
  },
  {
   "cell_type": "code",
   "execution_count": 3,
   "metadata": {
    "colab": {
     "base_uri": "https://localhost:8080/",
     "height": 206
    },
    "id": "j8ECmZ3e053I",
    "outputId": "a4e41840-1604-4bdd-81ee-7e59f01282c4"
   },
   "outputs": [
    {
     "data": {
      "text/html": [
       "<div>\n",
       "<style scoped>\n",
       "    .dataframe tbody tr th:only-of-type {\n",
       "        vertical-align: middle;\n",
       "    }\n",
       "\n",
       "    .dataframe tbody tr th {\n",
       "        vertical-align: top;\n",
       "    }\n",
       "\n",
       "    .dataframe thead th {\n",
       "        text-align: right;\n",
       "    }\n",
       "</style>\n",
       "<table border=\"1\" class=\"dataframe\">\n",
       "  <thead>\n",
       "    <tr style=\"text-align: right;\">\n",
       "      <th></th>\n",
       "      <th>count</th>\n",
       "      <th>hate_speech_count</th>\n",
       "      <th>offensive_language_count</th>\n",
       "      <th>neither_count</th>\n",
       "      <th>tweet</th>\n",
       "      <th>class</th>\n",
       "    </tr>\n",
       "  </thead>\n",
       "  <tbody>\n",
       "    <tr>\n",
       "      <th>0</th>\n",
       "      <td>3</td>\n",
       "      <td>2</td>\n",
       "      <td>0</td>\n",
       "      <td>1</td>\n",
       "      <td>RT @FunSizedYogi: @TheBlackVoice well how else...</td>\n",
       "      <td>0</td>\n",
       "    </tr>\n",
       "    <tr>\n",
       "      <th>1</th>\n",
       "      <td>3</td>\n",
       "      <td>0</td>\n",
       "      <td>0</td>\n",
       "      <td>3</td>\n",
       "      <td>Funny thing is....it's not just the people doi...</td>\n",
       "      <td>2</td>\n",
       "    </tr>\n",
       "    <tr>\n",
       "      <th>2</th>\n",
       "      <td>3</td>\n",
       "      <td>0</td>\n",
       "      <td>3</td>\n",
       "      <td>0</td>\n",
       "      <td>RT @winkSOSA: \"@AintShitSweet__: \"@Rakwon_OGOD...</td>\n",
       "      <td>1</td>\n",
       "    </tr>\n",
       "    <tr>\n",
       "      <th>3</th>\n",
       "      <td>3</td>\n",
       "      <td>0</td>\n",
       "      <td>3</td>\n",
       "      <td>0</td>\n",
       "      <td>@Jbrendaro30 @ZGabrail @ramsin1995 @GabeEli8 @...</td>\n",
       "      <td>1</td>\n",
       "    </tr>\n",
       "    <tr>\n",
       "      <th>4</th>\n",
       "      <td>6</td>\n",
       "      <td>0</td>\n",
       "      <td>6</td>\n",
       "      <td>0</td>\n",
       "      <td>S/o that real bitch</td>\n",
       "      <td>1</td>\n",
       "    </tr>\n",
       "  </tbody>\n",
       "</table>\n",
       "</div>"
      ],
      "text/plain": [
       "   count  hate_speech_count  offensive_language_count  neither_count  \\\n",
       "0      3                  2                         0              1   \n",
       "1      3                  0                         0              3   \n",
       "2      3                  0                         3              0   \n",
       "3      3                  0                         3              0   \n",
       "4      6                  0                         6              0   \n",
       "\n",
       "                                               tweet  class  \n",
       "0  RT @FunSizedYogi: @TheBlackVoice well how else...      0  \n",
       "1  Funny thing is....it's not just the people doi...      2  \n",
       "2  RT @winkSOSA: \"@AintShitSweet__: \"@Rakwon_OGOD...      1  \n",
       "3  @Jbrendaro30 @ZGabrail @ramsin1995 @GabeEli8 @...      1  \n",
       "4                                S/o that real bitch      1  "
      ]
     },
     "execution_count": 3,
     "metadata": {},
     "output_type": "execute_result"
    }
   ],
   "source": [
    "df=pd.read_csv(\"train (2).csv\")\n",
    "df.head()"
   ]
  },
  {
   "cell_type": "code",
   "execution_count": 4,
   "metadata": {
    "colab": {
     "base_uri": "https://localhost:8080/"
    },
    "id": "RoHxylGE1G4p",
    "outputId": "9c0a2962-07c0-4803-dfe9-42d4451b9c54"
   },
   "outputs": [
    {
     "data": {
      "text/plain": [
       "Index(['count', 'hate_speech_count', 'offensive_language_count',\n",
       "       'neither_count', 'tweet', 'class'],\n",
       "      dtype='object')"
      ]
     },
     "execution_count": 4,
     "metadata": {},
     "output_type": "execute_result"
    }
   ],
   "source": [
    "df.columns"
   ]
  },
  {
   "cell_type": "code",
   "execution_count": 5,
   "metadata": {
    "colab": {
     "base_uri": "https://localhost:8080/"
    },
    "id": "kUCxfw8-1MS2",
    "outputId": "7dffdac0-b344-4e70-8cb6-330af48fe63c"
   },
   "outputs": [
    {
     "data": {
      "text/plain": [
       "(19826, 6)"
      ]
     },
     "execution_count": 5,
     "metadata": {},
     "output_type": "execute_result"
    }
   ],
   "source": [
    "df.shape"
   ]
  },
  {
   "cell_type": "code",
   "execution_count": 6,
   "metadata": {
    "colab": {
     "base_uri": "https://localhost:8080/",
     "height": 272
    },
    "id": "dsnxhQiY1PVK",
    "outputId": "5864c5ac-a873-4559-a1a9-2d9629813fa4"
   },
   "outputs": [
    {
     "data": {
      "text/plain": [
       "count                       0\n",
       "hate_speech_count           0\n",
       "offensive_language_count    0\n",
       "neither_count               0\n",
       "tweet                       0\n",
       "class                       0\n",
       "dtype: int64"
      ]
     },
     "execution_count": 6,
     "metadata": {},
     "output_type": "execute_result"
    }
   ],
   "source": [
    "df.isnull().sum()"
   ]
  },
  {
   "cell_type": "code",
   "execution_count": 7,
   "metadata": {
    "colab": {
     "base_uri": "https://localhost:8080/"
    },
    "id": "KP7y9jbqFMsn",
    "outputId": "467c0e3e-39d7-45f6-fb73-5294f9e96413"
   },
   "outputs": [
    {
     "name": "stdout",
     "output_type": "stream",
     "text": [
      "hate speech  5.750025219408857 %\n",
      "offensive language  77.46393624533441 %\n",
      "Neither  16.786038535256733 %\n"
     ]
    }
   ],
   "source": [
    "hate_speech=(df['class']==0).sum()\n",
    "offensive_language=(df['class']==1).sum()\n",
    "neither=(df['class']==2).sum()\n",
    "sum=hate_speech+offensive_language+neither\n",
    "print('hate speech ',(hate_speech/sum)*100,'%')\n",
    "print('offensive language ',(offensive_language/sum)*100,'%')\n",
    "print('Neither ',(neither/sum)*100,'%')\n"
   ]
  },
  {
   "cell_type": "code",
   "execution_count": 8,
   "metadata": {
    "colab": {
     "base_uri": "https://localhost:8080/",
     "height": 467
    },
    "id": "Jmhld_LbI40u",
    "outputId": "24b31733-a971-4ed9-fc04-ff58e5d729ca"
   },
   "outputs": [
    {
     "data": {
      "image/png": "[encoded data removed]",
      "text/plain": [
       "<Figure size 640x480 with 1 Axes>"
      ]
     },
     "metadata": {},
     "output_type": "display_data"
    }
   ],
   "source": [
    "classes=df['class'].value_counts()\n",
    "colors=['red','blue','green']\n",
    "classes.plot(kind='bar', color=colors,edgecolor='black')\n",
    "plt.xlabel('Tweet labels')\n",
    "plt.ylabel('Number of Tweets')\n",
    "plt.title('Tweet Classes Distribution')\n",
    "plt.show()"
   ]
  },
  {
   "cell_type": "code",
   "execution_count": 9,
   "metadata": {
    "colab": {
     "base_uri": "https://localhost:8080/"
    },
    "id": "ojP6-TlwKe18",
    "outputId": "f4d15967-d9cf-4b65-b2e3-f270ad7f27ac"
   },
   "outputs": [
    {
     "name": "stderr",
     "output_type": "stream",
     "text": [
      "[nltk_data] Downloading package stopwords to\n",
      "[nltk_data]     C:\\Users\\kaout\\AppData\\Roaming\\nltk_data...\n",
      "[nltk_data]   Package stopwords is already up-to-date!\n"
     ]
    }
   ],
   "source": [
    "#remove URLS\n",
    "#remove punctuation\n",
    "#remove stop words\n",
    "#remove emojis\n",
    "\n",
    "nltk.download('stopwords')\n",
    "stop_words=set(stopwords.words('english'))\n",
    "\n",
    "def clean_text(text):\n",
    "  if not isinstance(text, str):\n",
    "    return text\n",
    "\n",
    "  #remove URLS\n",
    "  text=re.sub(r'http[s]?://\\S+', '',text)\n",
    "  #remove mentions and hashtags\n",
    "  text=re.sub(r'[@#]\\w+', '', text)\n",
    "  #remove punctuation\n",
    "  text=text.translate(str.maketrans('','', string.punctuation))\n",
    "  #remove emojis\n",
    "  text=emoji.replace_emoji(text, replace='')\n",
    "\n",
    "  words=text.lower().split()\n",
    "  text=' '.join([word for word in words if word not in stop_words])\n",
    "\n",
    "  return text"
   ]
  },
  {
   "cell_type": "code",
   "execution_count": 10,
   "metadata": {
    "colab": {
     "base_uri": "https://localhost:8080/",
     "height": 275
    },
    "id": "8KRi0bg7OddG",
    "outputId": "c0c109ff-c82a-4d45-cc3a-f156bc5056b1"
   },
   "outputs": [
    {
     "data": {
      "text/html": [
       "<div>\n",
       "<style scoped>\n",
       "    .dataframe tbody tr th:only-of-type {\n",
       "        vertical-align: middle;\n",
       "    }\n",
       "\n",
       "    .dataframe tbody tr th {\n",
       "        vertical-align: top;\n",
       "    }\n",
       "\n",
       "    .dataframe thead th {\n",
       "        text-align: right;\n",
       "    }\n",
       "</style>\n",
       "<table border=\"1\" class=\"dataframe\">\n",
       "  <thead>\n",
       "    <tr style=\"text-align: right;\">\n",
       "      <th></th>\n",
       "      <th>count</th>\n",
       "      <th>hate_speech_count</th>\n",
       "      <th>offensive_language_count</th>\n",
       "      <th>neither_count</th>\n",
       "      <th>tweet</th>\n",
       "      <th>class</th>\n",
       "      <th>cleaned tweet</th>\n",
       "    </tr>\n",
       "  </thead>\n",
       "  <tbody>\n",
       "    <tr>\n",
       "      <th>0</th>\n",
       "      <td>3</td>\n",
       "      <td>2</td>\n",
       "      <td>0</td>\n",
       "      <td>1</td>\n",
       "      <td>RT @FunSizedYogi: @TheBlackVoice well how else...</td>\n",
       "      <td>0</td>\n",
       "      <td>rt well else white ppl get us forget horrific ...</td>\n",
       "    </tr>\n",
       "    <tr>\n",
       "      <th>1</th>\n",
       "      <td>3</td>\n",
       "      <td>0</td>\n",
       "      <td>0</td>\n",
       "      <td>3</td>\n",
       "      <td>Funny thing is....it's not just the people doi...</td>\n",
       "      <td>2</td>\n",
       "      <td>funny thing isits people people seeing pics ju...</td>\n",
       "    </tr>\n",
       "    <tr>\n",
       "      <th>2</th>\n",
       "      <td>3</td>\n",
       "      <td>0</td>\n",
       "      <td>3</td>\n",
       "      <td>0</td>\n",
       "      <td>RT @winkSOSA: \"@AintShitSweet__: \"@Rakwon_OGOD...</td>\n",
       "      <td>1</td>\n",
       "      <td>rt nigga messed wrong bitch</td>\n",
       "    </tr>\n",
       "    <tr>\n",
       "      <th>3</th>\n",
       "      <td>3</td>\n",
       "      <td>0</td>\n",
       "      <td>3</td>\n",
       "      <td>0</td>\n",
       "      <td>@Jbrendaro30 @ZGabrail @ramsin1995 @GabeEli8 @...</td>\n",
       "      <td>1</td>\n",
       "      <td>bitch ass nigggaaa</td>\n",
       "    </tr>\n",
       "    <tr>\n",
       "      <th>4</th>\n",
       "      <td>6</td>\n",
       "      <td>0</td>\n",
       "      <td>6</td>\n",
       "      <td>0</td>\n",
       "      <td>S/o that real bitch</td>\n",
       "      <td>1</td>\n",
       "      <td>real bitch</td>\n",
       "    </tr>\n",
       "  </tbody>\n",
       "</table>\n",
       "</div>"
      ],
      "text/plain": [
       "   count  hate_speech_count  offensive_language_count  neither_count  \\\n",
       "0      3                  2                         0              1   \n",
       "1      3                  0                         0              3   \n",
       "2      3                  0                         3              0   \n",
       "3      3                  0                         3              0   \n",
       "4      6                  0                         6              0   \n",
       "\n",
       "                                               tweet  class  \\\n",
       "0  RT @FunSizedYogi: @TheBlackVoice well how else...      0   \n",
       "1  Funny thing is....it's not just the people doi...      2   \n",
       "2  RT @winkSOSA: \"@AintShitSweet__: \"@Rakwon_OGOD...      1   \n",
       "3  @Jbrendaro30 @ZGabrail @ramsin1995 @GabeEli8 @...      1   \n",
       "4                                S/o that real bitch      1   \n",
       "\n",
       "                                       cleaned tweet  \n",
       "0  rt well else white ppl get us forget horrific ...  \n",
       "1  funny thing isits people people seeing pics ju...  \n",
       "2                        rt nigga messed wrong bitch  \n",
       "3                                 bitch ass nigggaaa  \n",
       "4                                         real bitch  "
      ]
     },
     "execution_count": 10,
     "metadata": {},
     "output_type": "execute_result"
    }
   ],
   "source": [
    "df['cleaned tweet']=df['tweet'].apply(clean_text)\n",
    "df.head()"
   ]
  },
  {
   "cell_type": "code",
   "execution_count": 11,
   "metadata": {
    "colab": {
     "base_uri": "https://localhost:8080/"
    },
    "id": "kvBqagDkS0fh",
    "outputId": "0e889e37-c413-426b-8b31-b5ef6881b00d"
   },
   "outputs": [
    {
     "name": "stderr",
     "output_type": "stream",
     "text": [
      "[nltk_data] Downloading package wordnet to\n",
      "[nltk_data]     C:\\Users\\kaout\\AppData\\Roaming\\nltk_data...\n",
      "[nltk_data]   Package wordnet is already up-to-date!\n",
      "[nltk_data] Downloading package stopwords to\n",
      "[nltk_data]     C:\\Users\\kaout\\AppData\\Roaming\\nltk_data...\n",
      "[nltk_data]   Package stopwords is already up-to-date!\n",
      "[nltk_data] Downloading package omw-1.4 to\n",
      "[nltk_data]     C:\\Users\\kaout\\AppData\\Roaming\\nltk_data...\n",
      "[nltk_data]   Package omw-1.4 is already up-to-date!\n"
     ]
    },
    {
     "data": {
      "text/plain": [
       "True"
      ]
     },
     "execution_count": 11,
     "metadata": {},
     "output_type": "execute_result"
    }
   ],
   "source": [
    "nltk.download('wordnet')\n",
    "nltk.download('stopwords')\n",
    "nltk.download('omw-1.4')"
   ]
  },
  {
   "cell_type": "code",
   "execution_count": 12,
   "metadata": {},
   "outputs": [
    {
     "name": "stdout",
     "output_type": "stream",
     "text": [
      "   Top Words for 0 Top Words for 2 Top Words for 1\n",
      "0               rt              rt           bitch\n",
      "1            bitch           trash              rt\n",
      "2           faggot            bird         bitches\n",
      "3             like            like            hoes\n",
      "4            nigga         charlie            like\n",
      "5              ass          yellow           pussy\n",
      "6            white              im             hoe\n",
      "7             fuck            dont              im\n",
      "8           nigger             amp            dont\n",
      "9             dont           birds             ass\n",
      "10               u             get            fuck\n",
      "11           trash             lol            shit\n",
      "12              im             one             get\n",
      "13         fucking         yankees             got\n",
      "14          niggas               u            aint\n",
      "15             fag         colored           nigga\n",
      "16             get             got               u\n",
      "17           youre          monkey             lol\n",
      "18          people          ghetto          niggas\n",
      "19         bitches            good            know\n"
     ]
    }
   ],
   "source": [
    "import pandas as pd\n",
    "import matplotlib.pyplot as plt\n",
    "import seaborn as sns\n",
    "from collections import Counter\n",
    "\n",
    "def plot_top_words_by_class(df, text_column, class_column, top_n=20):\n",
    "    class_top_words = {}\n",
    "\n",
    "    # Iterate over each class\n",
    "    for label in df[class_column].unique():\n",
    "        subset = df[df[class_column] == label]  # Filter by class\n",
    "        words = \" \".join(subset[text_column]).split()  # Combine all text & tokenize\n",
    "        word_freq = Counter(words).most_common(top_n)  # Get top words\n",
    "        class_top_words[label] = [word for word, _ in word_freq]  # Store words\n",
    "    \n",
    "    # Convert to DataFrame\n",
    "    top_words_df = pd.DataFrame.from_dict(class_top_words, orient='index').transpose()\n",
    "    top_words_df.columns = [f\"Top Words for {col}\" for col in top_words_df.columns]\n",
    "\n",
    "    return top_words_df\n",
    "\n",
    "# Example Usage\n",
    "top_words_df = plot_top_words_by_class(df, text_column=\"cleaned tweet\", class_column=\"class\", top_n=20)\n",
    "print(top_words_df)\n"
   ]
  },
  {
   "cell_type": "code",
   "execution_count": 13,
   "metadata": {},
   "outputs": [
    {
     "data": {
      "image/png": "[encoded data removed]",
      "text/plain": [
       "<Figure size 1200x600 with 1 Axes>"
      ]
     },
     "metadata": {},
     "output_type": "display_data"
    }
   ],
   "source": [
    "import matplotlib.pyplot as plt\n",
    "import seaborn as sns\n",
    "from collections import Counter\n",
    "import pandas as pd\n",
    "\n",
    "def plot_top_words(df, text_column, class_column, top_n=20):\n",
    "    \"\"\"\n",
    "    Plots the most frequent words for each class label using a colorful bar chart.\n",
    "    \"\"\"\n",
    "    class_words_freq = []\n",
    "\n",
    "    # Iterate over each class and compute word frequencies\n",
    "    for label in df[class_column].unique():\n",
    "        subset = df[df[class_column] == label]\n",
    "        words = \" \".join(subset[text_column]).split()\n",
    "        word_freq = Counter(words).most_common(top_n)\n",
    "\n",
    "        for word, count in word_freq:\n",
    "            class_words_freq.append((label, word, count))\n",
    "\n",
    "    # Convert to DataFrame for Seaborn\n",
    "    freq_df = pd.DataFrame(class_words_freq, columns=['Class', 'Word', 'Count'])\n",
    "\n",
    "    # Plot using Seaborn\n",
    "    plt.figure(figsize=(12, 6))\n",
    "    sns.barplot(data=freq_df, x=\"Word\", y=\"Count\", hue=\"Class\", palette=\"tab10\")\n",
    "\n",
    "    plt.title(f\"Top {top_n} Frequent Words Per Class\", fontsize=14)\n",
    "    plt.xlabel(\"Words\", fontsize=12)\n",
    "    plt.ylabel(\"Frequency\", fontsize=12)\n",
    "    plt.xticks(rotation=45)\n",
    "    plt.legend(title=\"Class\")\n",
    "    plt.show()\n",
    "\n",
    "# Example usage\n",
    "plot_top_words(df, text_column=\"cleaned tweet\", class_column=\"class\", top_n=20)\n"
   ]
  },
  {
   "cell_type": "code",
   "execution_count": 14,
   "metadata": {
    "id": "_IcD9DSzR3U2"
   },
   "outputs": [],
   "source": [
    "#stemming removes suffixes to get the root from a word\n",
    "from nltk.stem import PorterStemmer\n",
    "stemmer=PorterStemmer()\n",
    "def stemming(text):\n",
    "  words=text.split()\n",
    "  return ' '.join([stemmer.stem(word) for word in words])\n"
   ]
  },
  {
   "cell_type": "code",
   "execution_count": 15,
   "metadata": {
    "id": "30FSBVh1SHWj"
   },
   "outputs": [],
   "source": [
    "#lemmatization reduces words to their dictionary base while considering the context\n",
    "from nltk.stem import WordNetLemmatizer\n",
    "from nltk.corpus import wordnet\n",
    "\n",
    "lemmatizer=WordNetLemmatizer()\n",
    "def apply_lemmatization(text):\n",
    "  words=text.split()\n",
    "  return ' '.join([lemmatizer.lemmatize(word,pos='v') for word in words])"
   ]
  },
  {
   "cell_type": "code",
   "execution_count": 16,
   "metadata": {
    "colab": {
     "base_uri": "https://localhost:8080/",
     "height": 206
    },
    "id": "6-Dh3DOlTsIz",
    "outputId": "c486a97c-28d1-4d7c-a657-daa85d1311a3"
   },
   "outputs": [
    {
     "data": {
      "text/html": [
       "<div>\n",
       "<style scoped>\n",
       "    .dataframe tbody tr th:only-of-type {\n",
       "        vertical-align: middle;\n",
       "    }\n",
       "\n",
       "    .dataframe tbody tr th {\n",
       "        vertical-align: top;\n",
       "    }\n",
       "\n",
       "    .dataframe thead th {\n",
       "        text-align: right;\n",
       "    }\n",
       "</style>\n",
       "<table border=\"1\" class=\"dataframe\">\n",
       "  <thead>\n",
       "    <tr style=\"text-align: right;\">\n",
       "      <th></th>\n",
       "      <th>count</th>\n",
       "      <th>hate_speech_count</th>\n",
       "      <th>offensive_language_count</th>\n",
       "      <th>neither_count</th>\n",
       "      <th>tweet</th>\n",
       "      <th>class</th>\n",
       "      <th>cleaned tweet</th>\n",
       "      <th>stemmed tweets</th>\n",
       "      <th>lemmatized tweets</th>\n",
       "    </tr>\n",
       "  </thead>\n",
       "  <tbody>\n",
       "    <tr>\n",
       "      <th>0</th>\n",
       "      <td>3</td>\n",
       "      <td>2</td>\n",
       "      <td>0</td>\n",
       "      <td>1</td>\n",
       "      <td>RT @FunSizedYogi: @TheBlackVoice well how else...</td>\n",
       "      <td>0</td>\n",
       "      <td>rt well else white ppl get us forget horrific ...</td>\n",
       "      <td>rt well els white ppl get us forget horrif pas...</td>\n",
       "      <td>rt well else white ppl get us forget horrific ...</td>\n",
       "    </tr>\n",
       "    <tr>\n",
       "      <th>1</th>\n",
       "      <td>3</td>\n",
       "      <td>0</td>\n",
       "      <td>0</td>\n",
       "      <td>3</td>\n",
       "      <td>Funny thing is....it's not just the people doi...</td>\n",
       "      <td>2</td>\n",
       "      <td>funny thing isits people people seeing pics ju...</td>\n",
       "      <td>funni thing isit peopl peopl see pic judg bird...</td>\n",
       "      <td>funny thing isits people people see pics judge...</td>\n",
       "    </tr>\n",
       "    <tr>\n",
       "      <th>2</th>\n",
       "      <td>3</td>\n",
       "      <td>0</td>\n",
       "      <td>3</td>\n",
       "      <td>0</td>\n",
       "      <td>RT @winkSOSA: \"@AintShitSweet__: \"@Rakwon_OGOD...</td>\n",
       "      <td>1</td>\n",
       "      <td>rt nigga messed wrong bitch</td>\n",
       "      <td>rt nigga mess wrong bitch</td>\n",
       "      <td>rt nigga mess wrong bitch</td>\n",
       "    </tr>\n",
       "    <tr>\n",
       "      <th>3</th>\n",
       "      <td>3</td>\n",
       "      <td>0</td>\n",
       "      <td>3</td>\n",
       "      <td>0</td>\n",
       "      <td>@Jbrendaro30 @ZGabrail @ramsin1995 @GabeEli8 @...</td>\n",
       "      <td>1</td>\n",
       "      <td>bitch ass nigggaaa</td>\n",
       "      <td>bitch ass nigggaaa</td>\n",
       "      <td>bitch ass nigggaaa</td>\n",
       "    </tr>\n",
       "    <tr>\n",
       "      <th>4</th>\n",
       "      <td>6</td>\n",
       "      <td>0</td>\n",
       "      <td>6</td>\n",
       "      <td>0</td>\n",
       "      <td>S/o that real bitch</td>\n",
       "      <td>1</td>\n",
       "      <td>real bitch</td>\n",
       "      <td>real bitch</td>\n",
       "      <td>real bitch</td>\n",
       "    </tr>\n",
       "  </tbody>\n",
       "</table>\n",
       "</div>"
      ],
      "text/plain": [
       "   count  hate_speech_count  offensive_language_count  neither_count  \\\n",
       "0      3                  2                         0              1   \n",
       "1      3                  0                         0              3   \n",
       "2      3                  0                         3              0   \n",
       "3      3                  0                         3              0   \n",
       "4      6                  0                         6              0   \n",
       "\n",
       "                                               tweet  class  \\\n",
       "0  RT @FunSizedYogi: @TheBlackVoice well how else...      0   \n",
       "1  Funny thing is....it's not just the people doi...      2   \n",
       "2  RT @winkSOSA: \"@AintShitSweet__: \"@Rakwon_OGOD...      1   \n",
       "3  @Jbrendaro30 @ZGabrail @ramsin1995 @GabeEli8 @...      1   \n",
       "4                                S/o that real bitch      1   \n",
       "\n",
       "                                       cleaned tweet  \\\n",
       "0  rt well else white ppl get us forget horrific ...   \n",
       "1  funny thing isits people people seeing pics ju...   \n",
       "2                        rt nigga messed wrong bitch   \n",
       "3                                 bitch ass nigggaaa   \n",
       "4                                         real bitch   \n",
       "\n",
       "                                      stemmed tweets  \\\n",
       "0  rt well els white ppl get us forget horrif pas...   \n",
       "1  funni thing isit peopl peopl see pic judg bird...   \n",
       "2                          rt nigga mess wrong bitch   \n",
       "3                                 bitch ass nigggaaa   \n",
       "4                                         real bitch   \n",
       "\n",
       "                                   lemmatized tweets  \n",
       "0  rt well else white ppl get us forget horrific ...  \n",
       "1  funny thing isits people people see pics judge...  \n",
       "2                          rt nigga mess wrong bitch  \n",
       "3                                 bitch ass nigggaaa  \n",
       "4                                         real bitch  "
      ]
     },
     "execution_count": 16,
     "metadata": {},
     "output_type": "execute_result"
    }
   ],
   "source": [
    "df['stemmed tweets']=df['cleaned tweet'].apply(stemming)\n",
    "df['lemmatized tweets']=df['cleaned tweet'].apply(apply_lemmatization)\n",
    "\n",
    "df.head()"
   ]
  },
  {
   "cell_type": "code",
   "execution_count": 17,
   "metadata": {
    "colab": {
     "base_uri": "https://localhost:8080/"
    },
    "id": "ovG2QA3-LBCe",
    "outputId": "4b53b15c-f527-4631-abbc-a369261ecb57"
   },
   "outputs": [
    {
     "name": "stdout",
     "output_type": "stream",
     "text": [
      "cleaned text max words:  25\n",
      "stemmed text max words:  25\n",
      "lemmatized text max words:  25\n"
     ]
    }
   ],
   "source": [
    "cleaned_text_length=df['cleaned tweet'].apply(lambda x:len(x.split())).max()\n",
    "stemmed_text_length=df['stemmed tweets'].apply(lambda x:len(x.split())).max()\n",
    "lemmatized_text_length=df['lemmatized tweets'].apply(lambda x:len(x.split())).max()\n",
    "\n",
    "print('cleaned text max words: ',cleaned_text_length)\n",
    "print('stemmed text max words: ',stemmed_text_length)\n",
    "print('lemmatized text max words: ',lemmatized_text_length)"
   ]
  },
  {
   "cell_type": "code",
   "execution_count": 18,
   "metadata": {
    "colab": {
     "base_uri": "https://localhost:8080/"
    },
    "id": "HRb_4SsMXidM",
    "outputId": "746dea7e-2eeb-4a0f-c599-edf18eade217"
   },
   "outputs": [
    {
     "data": {
      "text/plain": [
       "Index(['count', 'hate_speech_count', 'offensive_language_count',\n",
       "       'neither_count', 'tweet', 'class', 'cleaned tweet', 'stemmed tweets',\n",
       "       'lemmatized tweets'],\n",
       "      dtype='object')"
      ]
     },
     "execution_count": 18,
     "metadata": {},
     "output_type": "execute_result"
    }
   ],
   "source": [
    "df.columns"
   ]
  },
  {
   "cell_type": "code",
   "execution_count": 19,
   "metadata": {
    "id": "Fi7zFLhaLE_s"
   },
   "outputs": [],
   "source": [
    "clean_text_tweets=df\n",
    "stemmed_text_df=df\n",
    "lemmatized_text_df=df"
   ]
  },
  {
   "cell_type": "code",
   "execution_count": 17,
   "metadata": {},
   "outputs": [
    {
     "name": "stdout",
     "output_type": "stream",
     "text": [
      "Requirement already satisfied: gensim in c:\\users\\kaout\\appdata\\local\\programs\\python\\python312\\lib\\site-packages (4.3.3)\n",
      "Requirement already satisfied: numpy<2.0,>=1.18.5 in c:\\users\\kaout\\appdata\\local\\programs\\python\\python312\\lib\\site-packages (from gensim) (1.26.4)\n",
      "Requirement already satisfied: scipy<1.14.0,>=1.7.0 in c:\\users\\kaout\\appdata\\local\\programs\\python\\python312\\lib\\site-packages (from gensim) (1.13.1)\n",
      "Requirement already satisfied: smart-open>=1.8.1 in c:\\users\\kaout\\appdata\\local\\programs\\python\\python312\\lib\\site-packages (from gensim) (7.0.5)\n",
      "Requirement already satisfied: wrapt in c:\\users\\kaout\\appdata\\local\\programs\\python\\python312\\lib\\site-packages (from smart-open>=1.8.1->gensim) (1.17.0)\n",
      "Note: you may need to restart the kernel to use updated packages.\n"
     ]
    },
    {
     "name": "stderr",
     "output_type": "stream",
     "text": [
      "\n",
      "[notice] A new release of pip is available: 24.3.1 -> 25.0.1\n",
      "[notice] To update, run: python.exe -m pip install --upgrade pip\n"
     ]
    }
   ],
   "source": [
    "pip install gensim"
   ]
  },
  {
   "cell_type": "code",
   "execution_count": 20,
   "metadata": {},
   "outputs": [],
   "source": [
    "import numpy as np\n",
    "import pandas as pd\n",
    "from gensim.models import Word2Vec\n",
    "\n",
    "# Function to get word vectors, ensuring dtype is float32\n",
    "def get_padded_word_vectors(tokens, model, max_words, vector_size):\n",
    "    vectors = [model.wv[word] if word in model.wv else np.zeros(vector_size, dtype=np.float32) for word in tokens]\n",
    "    # Pad with zero vectors if sentence has fewer words than max_words\n",
    "    while len(vectors) < max_words:\n",
    "        vectors.append(np.zeros(vector_size, dtype=np.float32))\n",
    "\n",
    "    return np.array(vectors, dtype=np.float32)"
   ]
  },
  {
   "cell_type": "code",
   "execution_count": 21,
   "metadata": {},
   "outputs": [
    {
     "name": "stdout",
     "output_type": "stream",
     "text": [
      "count                         int64\n",
      "hate_speech_count             int64\n",
      "offensive_language_count      int64\n",
      "neither_count                 int64\n",
      "tweet                        object\n",
      "                             ...   \n",
      "word_24_dim_95              float32\n",
      "word_24_dim_96              float32\n",
      "word_24_dim_97              float32\n",
      "word_24_dim_98              float32\n",
      "word_24_dim_99              float32\n",
      "Length: 2509, dtype: object\n",
      "(19826, 2509)\n"
     ]
    }
   ],
   "source": [
    "#tokenize words and train word2vec\n",
    "clean_text_tweets['token'] = clean_text_tweets['cleaned tweet'].apply(lambda x: x.split())\n",
    "word2vec_model = Word2Vec(sentences=clean_text_tweets['token'], vector_size=100, window=5, min_count=1, workers=4)\n",
    "max_words = clean_text_tweets['token'].apply(len).max()\n",
    "vector_size = 100  # Word vector dimension\n",
    "\n",
    "# Apply function to generate embeddings\n",
    "clean_text_tweets['embedding'] = clean_text_tweets['token'].apply(lambda x: get_padded_word_vectors(x, word2vec_model, max_words, vector_size))\n",
    "\n",
    "# Convert embeddings to a NumPy array with correct shape\n",
    "embedding_array = np.stack(clean_text_tweets['embedding'])  \n",
    "\n",
    "# Create DataFrame with appropriate column names\n",
    "embedding_columns = [f'word_{i}_dim_{j}' for i in range(max_words) for j in range(vector_size)]\n",
    "embedding_df = pd.DataFrame(embedding_array.reshape(embedding_array.shape[0], -1), columns=embedding_columns, dtype=np.float32)\n",
    "\n",
    "# Concatenate with original DataFrame\n",
    "cleaned_text_final_df = pd.concat([clean_text_tweets, embedding_df], axis=1).drop(columns=['token', 'embedding'])\n",
    "\n",
    "print(cleaned_text_final_df.dtypes)  #to check if all columns of word embeddings are float32\n",
    "print(cleaned_text_final_df.shape)   # Ensure correct dimensions\n"
   ]
  },
  {
   "cell_type": "code",
   "execution_count": 22,
   "metadata": {},
   "outputs": [],
   "source": [
    "from gensim.models import Word2Vec\n",
    "word2vec_model.save(\"word2vec_cleaned_text.model\")"
   ]
  },
  {
   "cell_type": "code",
   "execution_count": 23,
   "metadata": {
    "id": "xGQMO6gmd2nt"
   },
   "outputs": [
    {
     "data": {
      "text/plain": [
       "Index(['count', 'hate_speech_count', 'offensive_language_count',\n",
       "       'neither_count', 'tweet', 'class', 'cleaned tweet', 'stemmed tweets',\n",
       "       'lemmatized tweets', 'word_0_dim_0',\n",
       "       ...\n",
       "       'word_24_dim_90', 'word_24_dim_91', 'word_24_dim_92', 'word_24_dim_93',\n",
       "       'word_24_dim_94', 'word_24_dim_95', 'word_24_dim_96', 'word_24_dim_97',\n",
       "       'word_24_dim_98', 'word_24_dim_99'],\n",
       "      dtype='object', length=2509)"
      ]
     },
     "execution_count": 23,
     "metadata": {},
     "output_type": "execute_result"
    }
   ],
   "source": [
    "cleaned_text_final_df.columns"
   ]
  },
  {
   "cell_type": "code",
   "execution_count": 24,
   "metadata": {},
   "outputs": [],
   "source": [
    "#word2vec for text with stemming\n",
    "stemmed_text_df['token'] = stemmed_text_df['stemmed tweets'].apply(lambda x: x.split())\n",
    "word2vec_model = Word2Vec(sentences=clean_text_tweets['token'], vector_size=100, window=5, min_count=1, workers=4)\n",
    "max_words = stemmed_text_df['token'].apply(len).max()\n",
    "vector_size = 100  # Word vector dimension\n",
    "\n",
    "embedding_array = np.stack(stemmed_text_df['embedding'])  # Shape: (num_sentences, max_words, vector_size)\n",
    "embedding_columns = [f'word_{i}_dim_{j}' for i in range(max_words) for j in range(vector_size)]\n",
    "embedding_df = pd.DataFrame(embedding_array.reshape(embedding_array.shape[0], -1), columns=embedding_columns, dtype=np.float32)\n",
    "\n",
    "stemmed_text_final_df = pd.concat([stemmed_text_df, embedding_df], axis=1).drop(columns=['token', 'embedding'])"
   ]
  },
  {
   "cell_type": "code",
   "execution_count": 25,
   "metadata": {},
   "outputs": [],
   "source": [
    "#word2vec for text with lemmatization\n",
    "lemmatized_text_df['token'] = lemmatized_text_df['lemmatized tweets'].apply(lambda x: x.split())\n",
    "word2vec_model = Word2Vec(sentences=lemmatized_text_df['token'], vector_size=100, window=5, min_count=1, workers=4)\n",
    "max_words = stemmed_text_df['token'].apply(len).max()\n",
    "vector_size = 100  \n",
    "\n",
    "embedding_array = np.stack(lemmatized_text_df['embedding'])  \n",
    "embedding_columns = [f'word_{i}_dim_{j}' for i in range(max_words) for j in range(vector_size)]\n",
    "embedding_df = pd.DataFrame(embedding_array.reshape(embedding_array.shape[0], -1), columns=embedding_columns, dtype=np.float32)\n",
    "\n",
    "lemmatized_text_final_df = pd.concat([lemmatized_text_df, embedding_df], axis=1).drop(columns=['token', 'embedding'])\n"
   ]
  },
  {
   "cell_type": "code",
   "execution_count": 26,
   "metadata": {},
   "outputs": [],
   "source": [
    "from gensim.models import Word2Vec\n",
    "word2vec_model.save(\"word2vec_lemmatized_text.model\")"
   ]
  },
  {
   "cell_type": "code",
   "execution_count": 73,
   "metadata": {},
   "outputs": [
    {
     "data": {
      "text/plain": [
       "Index(['count', 'hate_speech_count', 'offensive_language_count',\n",
       "       'neither_count', 'tweet', 'class', 'cleaned tweet', 'stemmed tweets',\n",
       "       'lemmatized tweets', 'word_0_dim_0',\n",
       "       ...\n",
       "       'word_24_dim_90', 'word_24_dim_91', 'word_24_dim_92', 'word_24_dim_93',\n",
       "       'word_24_dim_94', 'word_24_dim_95', 'word_24_dim_96', 'word_24_dim_97',\n",
       "       'word_24_dim_98', 'word_24_dim_99'],\n",
       "      dtype='object', length=2509)"
      ]
     },
     "execution_count": 73,
     "metadata": {},
     "output_type": "execute_result"
    }
   ],
   "source": [
    "lemmatized_text_final_df.columns"
   ]
  },
  {
   "cell_type": "code",
   "execution_count": 74,
   "metadata": {},
   "outputs": [],
   "source": [
    "cleaned_text_final_df.drop(['count', 'hate_speech_count', 'offensive_language_count',\n",
    "       'neither_count', 'tweet','stemmed tweets','lemmatized tweets'], axis=1, inplace=True)\n",
    "stemmed_text_final_df.drop(['count', 'hate_speech_count', 'offensive_language_count',\n",
    "       'neither_count', 'tweet','cleaned tweet','lemmatized tweets'], axis=1, inplace=True)\n",
    "lemmatized_text_final_df.drop(['count', 'hate_speech_count', 'offensive_language_count',\n",
    "       'neither_count', 'tweet','stemmed tweets','cleaned tweet'], axis=1, inplace=True)"
   ]
  },
  {
   "cell_type": "code",
   "execution_count": 75,
   "metadata": {},
   "outputs": [
    {
     "name": "stdout",
     "output_type": "stream",
     "text": [
      "(19826, 2502)\n",
      "(19826, 2502)\n",
      "(19826, 2502)\n"
     ]
    }
   ],
   "source": [
    "print(cleaned_text_final_df.shape)\n",
    "print(stemmed_text_final_df.shape)\n",
    "print(lemmatized_text_final_df.shape)"
   ]
  },
  {
   "cell_type": "code",
   "execution_count": 76,
   "metadata": {},
   "outputs": [],
   "source": [
    "cleaned_text_final_df.to_csv('cleaned_text_final_df.csv')\n",
    "stemmed_text_final_df.to_csv('stemmed_text_final_df.csv')\n",
    "lemmatized_text_final_df.to_csv('lemmatized_text_final_df.csv')"
   ]
  },
  {
   "cell_type": "code",
   "execution_count": null,
   "metadata": {},
   "outputs": [],
   "source": [
    "# word embedding using Glove"
   ]
  },
  {
   "cell_type": "code",
   "execution_count": 31,
   "metadata": {},
   "outputs": [
    {
     "name": "stdout",
     "output_type": "stream",
     "text": [
      "Downloading GloVe embeddings...\n",
      "Download complete!\n",
      "Unzipping...\n",
      "Unzipping complete!\n"
     ]
    }
   ],
   "source": [
    "import requests\n",
    "import zipfile\n",
    "\n",
    "glove_url = \"http://nlp.stanford.edu/data/glove.6B.zip\"\n",
    "glove_zip_path = \"glove.6B.zip\"\n",
    "\n",
    "def download_file(url, save_path, chunk_size=1024):\n",
    "    response = requests.get(url, stream=True)\n",
    "    total_size = int(response.headers.get('content-length', 0))\n",
    "    with open(save_path, 'wb') as file:\n",
    "        for data in response.iter_content(chunk_size):\n",
    "            file.write(data)\n",
    "    \n",
    "    print(\"Download complete!\")\n",
    "\n",
    "# Download GloVe embeddings in chunks\n",
    "print(\"Downloading GloVe embeddings...\")\n",
    "download_file(glove_url, glove_zip_path)\n",
    "\n",
    "# Unzip the file\n",
    "print(\"Unzipping...\")\n",
    "with zipfile.ZipFile(glove_zip_path, \"r\") as zip_ref:\n",
    "    zip_ref.extractall()  # Extracts into the current directory\n",
    "\n",
    "print(\"Unzipping complete!\")\n"
   ]
  },
  {
   "cell_type": "code",
   "execution_count": 24,
   "metadata": {},
   "outputs": [],
   "source": [
    "clean_text_tweets=df\n",
    "stemmed_text_df=df\n",
    "lemmatized_text_df=df"
   ]
  },
  {
   "cell_type": "code",
   "execution_count": 25,
   "metadata": {},
   "outputs": [],
   "source": [
    "from tensorflow.keras.preprocessing.text import Tokenizer\n",
    "from tensorflow.keras.preprocessing.sequence import pad_sequences\n",
    "\n",
    "def load_glove_embeddings(filepath, word_index, embedding_dim=50):\n",
    "    embedding_matrix = np.zeros((vocab_size, embedding_dim))  # Initialize with zeros\n",
    "\n",
    "    with open(filepath, encoding=\"utf8\") as f:\n",
    "        for line in f:\n",
    "            word, *vector = line.split()\n",
    "            if word in word_index:  # Check if word exists in our vocabulary\n",
    "                idx = word_index[word]\n",
    "                embedding_matrix[idx] = np.array(vector, dtype=np.float32)[:embedding_dim]\n",
    "\n",
    "    return embedding_matrix\n",
    "\n",
    "def convert_to_glove_vectors(sequences, embedding_matrix, embedding_dim):\n",
    "    vectorized_sentences = []\n",
    "    for seq in sequences:\n",
    "        sentence_vectors = [embedding_matrix[idx] if idx != 0 else np.zeros(embedding_dim) for idx in seq]\n",
    "        vectorized_sentences.append(sentence_vectors)\n",
    "    return np.array(vectorized_sentences)  # Shape: (num_sentences, max_words, embedding_dim)\n"
   ]
  },
  {
   "cell_type": "code",
   "execution_count": 91,
   "metadata": {},
   "outputs": [
    {
     "name": "stdout",
     "output_type": "stream",
     "text": [
      "   count  hate_speech_count  offensive_language_count  neither_count  \\\n",
      "0      3                  2                         0              1   \n",
      "1      3                  0                         0              3   \n",
      "2      3                  0                         3              0   \n",
      "3      3                  0                         3              0   \n",
      "4      6                  0                         6              0   \n",
      "\n",
      "                                               tweet  class  \\\n",
      "0  RT @FunSizedYogi: @TheBlackVoice well how else...      0   \n",
      "1  Funny thing is....it's not just the people doi...      2   \n",
      "2  RT @winkSOSA: \"@AintShitSweet__: \"@Rakwon_OGOD...      1   \n",
      "3  @Jbrendaro30 @ZGabrail @ramsin1995 @GabeEli8 @...      1   \n",
      "4                                S/o that real bitch      1   \n",
      "\n",
      "                                       cleaned tweet  \\\n",
      "0  rt well else white ppl get us forget horrific ...   \n",
      "1  funny thing isits people people seeing pics ju...   \n",
      "2                        rt nigga messed wrong bitch   \n",
      "3                                 bitch ass nigggaaa   \n",
      "4                                         real bitch   \n",
      "\n",
      "                                      stemmed tweets  \\\n",
      "0  rt well els white ppl get us forget horrif pas...   \n",
      "1  funni thing isit peopl peopl see pic judg bird...   \n",
      "2                          rt nigga mess wrong bitch   \n",
      "3                                 bitch ass nigggaaa   \n",
      "4                                         real bitch   \n",
      "\n",
      "                                   lemmatized tweets  \\\n",
      "0  rt well else white ppl get us forget horrific ...   \n",
      "1  funny thing isits people people see pics judge...   \n",
      "2                          rt nigga mess wrong bitch   \n",
      "3                                 bitch ass nigggaaa   \n",
      "4                                         real bitch   \n",
      "\n",
      "                                               token  ... word25_vec40  \\\n",
      "0  [rt, well, else, white, ppl, get, us, forget, ...  ...          0.0   \n",
      "1  [funny, thing, isits, people, people, seeing, ...  ...          0.0   \n",
      "2                  [rt, nigga, messed, wrong, bitch]  ...          0.0   \n",
      "3                             [bitch, ass, nigggaaa]  ...          0.0   \n",
      "4                                      [real, bitch]  ...          0.0   \n",
      "\n",
      "   word25_vec41  word25_vec42  word25_vec43  word25_vec44  word25_vec45  \\\n",
      "0           0.0           0.0           0.0           0.0           0.0   \n",
      "1           0.0           0.0           0.0           0.0           0.0   \n",
      "2           0.0           0.0           0.0           0.0           0.0   \n",
      "3           0.0           0.0           0.0           0.0           0.0   \n",
      "4           0.0           0.0           0.0           0.0           0.0   \n",
      "\n",
      "   word25_vec46  word25_vec47  word25_vec48  word25_vec49  \n",
      "0           0.0           0.0           0.0           0.0  \n",
      "1           0.0           0.0           0.0           0.0  \n",
      "2           0.0           0.0           0.0           0.0  \n",
      "3           0.0           0.0           0.0           0.0  \n",
      "4           0.0           0.0           0.0           0.0  \n",
      "\n",
      "[5 rows x 1261 columns]\n"
     ]
    }
   ],
   "source": [
    "texts = clean_text_tweets['cleaned tweet'].astype(str).tolist()  # Convert to list of strings\n",
    "# Tokenize text\n",
    "tokenizer = Tokenizer()\n",
    "tokenizer.fit_on_texts(texts)\n",
    "word_index = tokenizer.word_index  # Dictionary mapping words to unique indices\n",
    "vocab_size = len(word_index) + 1  # Add 1 for reserved padding index\n",
    "\n",
    "# Set embedding dimension based on the GloVe file (50, 100, 200, or 300)\n",
    "embedding_dim = 50  \n",
    "glove_file_path = \"glove.6B.50d.txt\"  \n",
    "\n",
    "# Load GloVe embeddings (assumes the function `load_glove_embeddings` is defined)\n",
    "embedding_matrix = load_glove_embeddings(glove_file_path, word_index, embedding_dim)\n",
    "\n",
    "# Tokenize sentences\n",
    "sequences = tokenizer.texts_to_sequences(texts)\n",
    "max_words = max(len(seq) for seq in sequences)\n",
    "\n",
    "# Pad sequences to ensure all sentences are of the same length\n",
    "padded_sequences = pad_sequences(sequences, maxlen=max_words, padding='post')\n",
    "\n",
    "# Convert to GloVe word embeddings for each word in the sentences\n",
    "sentence_embeddings = convert_to_glove_vectors(padded_sequences, embedding_matrix, embedding_dim)\n",
    "\n",
    "embedding_cols = []\n",
    "for i in range(max_words):\n",
    "    for j in range(embedding_dim):\n",
    "        embedding_cols.append(f'word{i+1}_vec{j}')\n",
    "\n",
    "reshaped_embeddings = sentence_embeddings.reshape(sentence_embeddings.shape[0], -1)\n",
    "\n",
    "embedding_df = pd.DataFrame(reshaped_embeddings, columns=embedding_cols)\n",
    "\n",
    "cleaned_text_final_df = pd.concat([clean_text_tweets, embedding_df], axis=1)\n",
    "\n",
    "print(cleaned_text_final_df.head())"
   ]
  },
  {
   "cell_type": "code",
   "execution_count": 92,
   "metadata": {},
   "outputs": [
    {
     "data": {
      "text/plain": [
       "Index(['count', 'hate_speech_count', 'offensive_language_count',\n",
       "       'neither_count', 'tweet', 'class', 'cleaned tweet', 'stemmed tweets',\n",
       "       'lemmatized tweets', 'token',\n",
       "       ...\n",
       "       'word25_vec40', 'word25_vec41', 'word25_vec42', 'word25_vec43',\n",
       "       'word25_vec44', 'word25_vec45', 'word25_vec46', 'word25_vec47',\n",
       "       'word25_vec48', 'word25_vec49'],\n",
       "      dtype='object', length=1261)"
      ]
     },
     "execution_count": 92,
     "metadata": {},
     "output_type": "execute_result"
    }
   ],
   "source": [
    "cleaned_text_final_df.columns"
   ]
  },
  {
   "cell_type": "code",
   "execution_count": 93,
   "metadata": {},
   "outputs": [],
   "source": [
    "#Glove for words with stemming\n",
    "texts = stemmed_text_df['stemmed tweets'].astype(str).tolist() \n",
    "tokenizer = Tokenizer()\n",
    "tokenizer.fit_on_texts(texts)\n",
    "word_index = tokenizer.word_index  \n",
    "vocab_size = len(word_index) + 1 \n",
    "\n",
    "embedding_dim = 50  #to modify to either 100, 200,300\n",
    "glove_file_path = \"glove.6B.50d.txt\"  \n",
    "embedding_matrix = load_glove_embeddings(glove_file_path, word_index, embedding_dim)\n",
    "sequences = tokenizer.texts_to_sequences(texts)\n",
    "max_words = max(len(seq) for seq in sequences)\n",
    "\n",
    "padded_sequences = pad_sequences(sequences, maxlen=max_words, padding='post')\n",
    "sentence_embeddings = convert_to_glove_vectors(padded_sequences, embedding_matrix, embedding_dim)\n",
    "\n",
    "embedding_cols = []\n",
    "for i in range(max_words):\n",
    "    for j in range(embedding_dim):\n",
    "        embedding_cols.append(f'word{i+1}_vec{j}')\n",
    "\n",
    "reshaped_embeddings = sentence_embeddings.reshape(sentence_embeddings.shape[0], -1)\n",
    "embedding_df = pd.DataFrame(reshaped_embeddings, columns=embedding_cols)\n",
    "stemmed_text_final_df = pd.concat([stemmed_text_df, embedding_df], axis=1)"
   ]
  },
  {
   "cell_type": "code",
   "execution_count": 94,
   "metadata": {},
   "outputs": [],
   "source": [
    "#Glove for words with lemmatization\n",
    "texts = lemmatized_text_df['lemmatized tweets'].astype(str).tolist() \n",
    "tokenizer = Tokenizer()\n",
    "tokenizer.fit_on_texts(texts)\n",
    "word_index = tokenizer.word_index  \n",
    "vocab_size = len(word_index) + 1 \n",
    "\n",
    "embedding_dim = 50  \n",
    "glove_file_path = \"glove.6B.50d.txt\"  \n",
    "embedding_matrix = load_glove_embeddings(glove_file_path, word_index, embedding_dim)\n",
    "sequences = tokenizer.texts_to_sequences(texts)\n",
    "max_words = max(len(seq) for seq in sequences)\n",
    "\n",
    "padded_sequences = pad_sequences(sequences, maxlen=max_words, padding='post')\n",
    "sentence_embeddings = convert_to_glove_vectors(padded_sequences, embedding_matrix, embedding_dim)\n",
    "\n",
    "embedding_cols = []\n",
    "for i in range(max_words):\n",
    "    for j in range(embedding_dim):\n",
    "        embedding_cols.append(f'word{i+1}_vec{j}')\n",
    "\n",
    "reshaped_embeddings = sentence_embeddings.reshape(sentence_embeddings.shape[0], -1)\n",
    "embedding_df = pd.DataFrame(reshaped_embeddings, columns=embedding_cols)\n",
    "lemmatized_text_final_df = pd.concat([lemmatized_text_df, embedding_df], axis=1)"
   ]
  },
  {
   "cell_type": "code",
   "execution_count": 96,
   "metadata": {},
   "outputs": [],
   "source": [
    "cleaned_text_final_df.drop(['count', 'hate_speech_count', 'offensive_language_count',\n",
    "       'neither_count', 'tweet','stemmed tweets','lemmatized tweets'], axis=1, inplace=True)\n",
    "stemmed_text_final_df.drop(['count', 'hate_speech_count', 'offensive_language_count',\n",
    "       'neither_count', 'tweet','cleaned tweet','lemmatized tweets'], axis=1, inplace=True)\n",
    "lemmatized_text_final_df.drop(['count', 'hate_speech_count', 'offensive_language_count',\n",
    "       'neither_count', 'tweet','stemmed tweets','cleaned tweet'], axis=1, inplace=True)"
   ]
  },
  {
   "cell_type": "code",
   "execution_count": 97,
   "metadata": {},
   "outputs": [],
   "source": [
    "cleaned_text_final_df.to_csv('cleaned_text_final_df_glove_50.csv')\n",
    "stemmed_text_final_df.to_csv('stemmed_text_final_df_glove_50.csv')\n",
    "lemmatized_text_final_df.to_csv('lemmatized_text_final_df_glove_50.csv')"
   ]
  },
  {
   "cell_type": "code",
   "execution_count": 98,
   "metadata": {},
   "outputs": [],
   "source": []
  },
  {
   "cell_type": "code",
   "execution_count": 99,
   "metadata": {},
   "outputs": [],
   "source": []
  },
  {
   "cell_type": "code",
   "execution_count": 26,
   "metadata": {},
   "outputs": [],
   "source": [
    "texts = clean_text_tweets['cleaned tweet'].astype(str).tolist()  # Convert to list of strings\n",
    "# Tokenize text\n",
    "tokenizer = Tokenizer()\n",
    "tokenizer.fit_on_texts(texts)\n",
    "word_index = tokenizer.word_index  # Dictionary mapping words to unique indices\n",
    "vocab_size = len(word_index) + 1  # Add 1 for reserved padding index\n",
    "\n",
    "# Set embedding dimension based on the GloVe file (50, 100, 200, or 300)\n",
    "embedding_dim = 200  \n",
    "glove_file_path = \"glove.6B.200d.txt\"  \n",
    "\n",
    "# Load GloVe embeddings (assumes the function `load_glove_embeddings` is defined)\n",
    "embedding_matrix = load_glove_embeddings(glove_file_path, word_index, embedding_dim)\n",
    "\n",
    "# Tokenize sentences\n",
    "sequences = tokenizer.texts_to_sequences(texts)\n",
    "max_words = max(len(seq) for seq in sequences)\n",
    "\n",
    "# Pad sequences to ensure all sentences are of the same length\n",
    "padded_sequences = pad_sequences(sequences, maxlen=max_words, padding='post')\n",
    "\n",
    "# Convert to GloVe word embeddings for each word in the sentences\n",
    "sentence_embeddings = convert_to_glove_vectors(padded_sequences, embedding_matrix, embedding_dim)\n",
    "\n",
    "embedding_cols = []\n",
    "for i in range(max_words):\n",
    "    for j in range(embedding_dim):\n",
    "        embedding_cols.append(f'word{i+1}_vec{j}')\n",
    "\n",
    "reshaped_embeddings = sentence_embeddings.reshape(sentence_embeddings.shape[0], -1)\n",
    "\n",
    "embedding_df = pd.DataFrame(reshaped_embeddings, columns=embedding_cols)\n",
    "\n",
    "cleaned_text_final_df = pd.concat([clean_text_tweets, embedding_df], axis=1)\n"
   ]
  },
  {
   "cell_type": "code",
   "execution_count": 28,
   "metadata": {},
   "outputs": [],
   "source": [
    "stemmed_text_final_df.to_csv('stemmed_text_final_df_glove_200.csv')"
   ]
  },
  {
   "cell_type": "code",
   "execution_count": null,
   "metadata": {},
   "outputs": [],
   "source": []
  }
 ],
 "metadata": {
  "colab": {
   "provenance": []
  },
  "kernelspec": {
   "display_name": "Python 3 (ipykernel)",
   "language": "python",
   "name": "python3"
  },
  "language_info": {
   "codemirror_mode": {
    "name": "ipython",
    "version": 3
   },
   "file_extension": ".py",
   "mimetype": "text/x-python",
   "name": "python",
   "nbconvert_exporter": "python",
   "pygments_lexer": "ipython3",
   "version": "3.12.4"
  }
 },
 "nbformat": 4,
 "nbformat_minor": 4
}
